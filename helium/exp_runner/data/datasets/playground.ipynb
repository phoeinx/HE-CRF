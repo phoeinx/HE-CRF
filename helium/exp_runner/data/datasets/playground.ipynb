{
 "cells": [
  {
   "cell_type": "code",
   "execution_count": 1,
   "id": "861995f8",
   "metadata": {},
   "outputs": [],
   "source": [
    "import pandas as pd \n",
    "\n",
    "data = pd.read_csv('preprocessed_breast_cancer.csv')"
   ]
  },
  {
   "cell_type": "code",
   "execution_count": 9,
   "id": "d232a111",
   "metadata": {},
   "outputs": [
    {
     "data": {
      "text/plain": [
       "Class\n",
       "1    161\n",
       "0     12\n",
       "Name: count, dtype: int64"
      ]
     },
     "execution_count": 9,
     "metadata": {},
     "output_type": "execute_result"
    }
   ],
   "source": [
    "data[data[\"7\"] > 3.406][\"Class\"].value_counts() "
   ]
  },
  {
   "cell_type": "code",
   "execution_count": null,
   "id": "fb8ddcb0",
   "metadata": {},
   "outputs": [
    {
     "data": {
      "text/plain": [
       "['preprocessed_Chess (King-Rook vs. King-Pawn).csv',\n",
       " 'preprocessed_ILPD (Indian Liver Patient Dataset).csv',\n",
       " 'preprocessed_Ozone Level Detection.csv',\n",
       " 'preprocessed_Ionosphere.csv',\n",
       " \"preprocessed_MONK's Problems.csv\",\n",
       " \"preprocessed_Haberman's Survival.csv\",\n",
       " 'preprocessed_Bank Marketing.csv',\n",
       " 'preprocessed_Musk (Version 1).csv',\n",
       " 'preprocessed_Breast Cancer Wisconsin (Prognostic).csv',\n",
       " 'preprocessed_Mushroom.csv',\n",
       " 'preprocessed_LTD.csv',\n",
       " 'preprocessed_Adult.csv',\n",
       " 'preprocessed_Acute Inflammations.csv',\n",
       " 'playground.ipynb',\n",
       " 'preprocessed_Heart Disease.csv',\n",
       " 'preprocessed_Mammographic Mass.csv',\n",
       " 'preprocessed_Breast Cancer Wisconsin (Diagnostic).csv',\n",
       " 'preprocessed_TCGA.csv',\n",
       " 'preprocessed_HCC.csv',\n",
       " 'preprocessed_MAGIC Gamma Telescope.csv',\n",
       " 'preprocessed_Blood Transfusion Service Center.csv',\n",
       " 'preprocessed_Musk (Version 2).csv',\n",
       " 'preprocessed_Breast Cancer Wisconsin (Original).csv',\n",
       " 'preprocessed_Spambase.csv']"
      ]
     },
     "execution_count": 2,
     "metadata": {},
     "output_type": "execute_result"
    }
   ],
   "source": []
  },
  {
   "cell_type": "code",
   "execution_count": 5,
   "id": "a685dcb0",
   "metadata": {},
   "outputs": [
    {
     "data": {
      "text/plain": [
       "Class\n",
       "1    83\n",
       "0     1\n",
       "Name: count, dtype: int64"
      ]
     },
     "execution_count": 5,
     "metadata": {},
     "output_type": "execute_result"
    }
   ],
   "source": [
    "data[data[\"3\"] > 7][\"Class\"].value_counts()"
   ]
  }
 ],
 "metadata": {
  "kernelspec": {
   "display_name": "Python 3",
   "language": "python",
   "name": "python3"
  },
  "language_info": {
   "codemirror_mode": {
    "name": "ipython",
    "version": 3
   },
   "file_extension": ".py",
   "mimetype": "text/x-python",
   "name": "python",
   "nbconvert_exporter": "python",
   "pygments_lexer": "ipython3",
   "version": "3.13.2"
  }
 },
 "nbformat": 4,
 "nbformat_minor": 5
}
